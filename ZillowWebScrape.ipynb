{
 "cells": [
  {
   "cell_type": "code",
   "execution_count": 2,
   "id": "1de363ea",
   "metadata": {},
   "outputs": [],
   "source": [
    "import os\n",
    "from bs4 import BeautifulSoup\n",
    "import numpy as np\n",
    "import pandas as pd\n",
    "import regex as re\n",
    "import requests\n",
    "import time\n",
    "\n",
    "pd.set_option('display.max_rows', None)\n",
    "pd.set_option('mode.chained_assignment',None)"
   ]
  },
  {
   "cell_type": "code",
   "execution_count": 3,
   "id": "84f80273",
   "metadata": {},
   "outputs": [],
   "source": [
    "headers = {\n",
    "   'accept':'text/html,application/xhtml+xml,application/xml;q=0.9,image/avif,image/webp,*/*;q=0.8',\n",
    "   'Accept-Encoding' : 'gzip, deflate, br',\n",
    "   'Accept-Language' : 'en-US,en;q=0.5',\n",
    "   'cache-control' : 'no-cache',\n",
    "   'content-encoding' : 'gzip',\n",
    "   'Cookie' : 'x-amz-continuous-deployment-state=AYABeNfmFSgaeHo%2FLtR+c8h+1+QAPgACAAFEAB1kM2Jsa2Q0azB3azlvai5jbG91ZGZyb250Lm5ldAABRwAVRzA3MjU1NjcyMVRZRFY4RDcyVlpWAAEAAkNEABpDb29raWUAAACAAAAADFr4P9HOJU4H5lQbnQAw7AEiGQ0HM1Fk4U7zntBSGv2xUhbmywBg40MJxKPDYY62t9qinQgjNGOrqkxhwHasAgAAAAAMAAQAAAAAAAAAAAAAAAAAAMafJVan5wcqx9P0nZC5Yc7%2F%2F%2F%2F%2FAAAAAQAAAAAAAAAAAAAAAQAAAAwxkuqjvKJA7NJe6hGuniFPlxg9rVuNKZ4nFi3prVuNKZ4nFi3prVuNKZ4nFi3prVuNKZ4nFi3prVuNKZ4nFi3prVuNKZ4nFi3prVuNKZ4nFi3prVuNKZ4nFi3prVuNKZ4nFi3p; search=6|1708819459747%7…AAFEAB1kM2Jsa2Q0azB3azlvai5jbG91ZGZyb250Lm5ldAABRwAVRzA3MjU1NjcyMVRZRFY4RDcyVlpWAAEAAkNEABpDb29raWUAAACAAAAADFr4P9HOJU4H5lQbnQAw7AEiGQ0HM1Fk4U7zntBSGv2xUhbmywBg40MJxKPDYY62t9qinQgjNGOrqkxhwHasAgAAAAAMAAQAAAAAAAAAAAAAAAAAAMafJVan5wcqx9P0nZC5Yc7%2F%2F%2F%2F%2FAAAAAQAAAAAAAAAAAAAAAQAAAAwxkuqjvKJA7NJe6hGuniFPlxg9rVuNKZ4nFi3prVuNKZ4nFi3prVuNKZ4nFi3prVuNKZ4nFi3prVuNKZ4nFi3prVuNKZ4nFi3prVuNKZ4nFi3prVuNKZ4nFi3prVuNKZ4nFi3prVuNKZ4nFi3prVuNKZ4nFi3prVuNKZ4nFi3prVuNKZ4nFi3p; JSESSIONID=F41F9EA33C943545A252BC4A41C32C2D',\n",
    "   'Sec-Fetch-Dest' : 'document',\n",
    "   'Sec-Fetch-Mode' : 'navigate',\n",
    "   'Sec-Fetch-Site' : 'same-origin',\n",
    "   'Sec-Fetch-User' : '?1',\n",
    "   'Upgrade-Insecure-Requests' : '1',\n",
    "   'User-Agent' : 'Mozilla/5.0 (Windows NT 10.0; rv:109.0) Gecko/20100101 Firefox/116.0'\n",
    "\n",
    "}"
   ]
  },
  {
   "cell_type": "code",
   "execution_count": 4,
   "id": "46ee62a9",
   "metadata": {},
   "outputs": [],
   "source": [
    "# get around the response outputting JSON and getting an error from structure, manually build a new response list\n",
    "# write loops to create lists for each page request \n",
    "# useful for scraping through more than a single page\n",
    "\n",
    "\n",
    "with requests.session() as s:\n",
    "    city = 'santa-barbara-county-ca/'\n",
    "    page = 1\n",
    "    end_page = 10\n",
    "    url = ''\n",
    "    url_list = []\n",
    "    \n",
    "    while page <= end_page:\n",
    "        url = 'https://www.zillow.com/' +city+'/rentals/' f'{page}_p/'\n",
    "        url_list.append(url)\n",
    "        page += 1\n",
    "    \n",
    "    request = ''\n",
    "    request_list = []\n",
    "    \n",
    "    for url in url_list:\n",
    "        time.sleep(2)\n",
    "        request = s.get(url, headers=headers)\n",
    "        request_list.append(request)\n",
    "    \n",
    "soup = ''\n",
    "soup_list = []\n",
    "\n",
    "# loops through the request list in order to fill the BeautifulSoup list\n",
    "for request in request_list:\n",
    "    soup = BeautifulSoup(request.content, 'html.parser')\n",
    "    soup_list.append(soup)"
   ]
  },
  {
   "cell_type": "code",
   "execution_count": 7,
   "id": "74775563",
   "metadata": {},
   "outputs": [],
   "source": [
    "#current error: the elements scraped for beds does not match with prices or the total amount of properties scraped\n",
    "\n",
    "df_list = []\n",
    "for soup in soup_list:\n",
    "    df = pd.DataFrame()\n",
    "    for i in soup:\n",
    "        address = soup.find_all (class_= 'StyledPropertyCardDataArea-c11n-8-84-3__sc-yipmu-0 jnnxAW property-card-link')\n",
    "        price = list(soup.find_all (class_='PropertyCardWrapper__StyledPriceGridContainer-srp__sc-16e8gqd-0 kSsByo'))\n",
    "        #try:\n",
    "            #beds = soup.find_all(\"ul\", class_='StyledPropertyCardHomeDetailsList-c11n-8-84-3__sc-1xvdaej-0 eYPFID')\n",
    "        #except AttributeError:\n",
    "        beds = soup.find_all(\"ul\", class_='StyledPropertyCardDataArea-c11n-8-84-3__sc-yipmu-0 dbDWjx')\n",
    "        \n",
    "        df['price'] = price\n",
    "        df['address'] = address\n",
    "        #df['beds'] = beds\n",
    "\n",
    "    df_list.append(df)\n",
    "    "
   ]
  },
  {
   "cell_type": "code",
   "execution_count": 70,
   "id": "9be6122f",
   "metadata": {},
   "outputs": [
    {
     "name": "stdout",
     "output_type": "stream",
     "text": [
      "<ul class=\"StyledPropertyCardHomeDetailsList-c11n-8-84-3__sc-1xvdaej-0 eYPFID\"><li><b>3</b> <abbr>bds</abbr></li><li><b>2</b> <abbr>ba</abbr></li><li><b>1,700</b> <abbr>sqft</abbr></li></ul>\n"
     ]
    }
   ],
   "source": [
    "df_list = []\n",
    "for soup in soup_list:\n",
    "    df = pd.DataFrame()\n",
    "    for i in soup:\n",
    "        beds = soup.find_all(\"ul\", class_='StyledPropertyCardHomeDetailsList-c11n-8-84-3__sc-1xvdaej-0 eYPFID')\n",
    "        df['beds'] = beds \n",
    "    \n",
    "print(df['beds'][7])"
   ]
  },
  {
   "cell_type": "code",
   "execution_count": null,
   "id": "26e94e63",
   "metadata": {},
   "outputs": [],
   "source": []
  },
  {
   "cell_type": "code",
   "execution_count": 8,
   "id": "71a98f81",
   "metadata": {},
   "outputs": [
    {
     "data": {
      "text/html": [
       "<div>\n",
       "<style scoped>\n",
       "    .dataframe tbody tr th:only-of-type {\n",
       "        vertical-align: middle;\n",
       "    }\n",
       "\n",
       "    .dataframe tbody tr th {\n",
       "        vertical-align: top;\n",
       "    }\n",
       "\n",
       "    .dataframe thead th {\n",
       "        text-align: right;\n",
       "    }\n",
       "</style>\n",
       "<table border=\"1\" class=\"dataframe\">\n",
       "  <thead>\n",
       "    <tr style=\"text-align: right;\">\n",
       "      <th></th>\n",
       "      <th>price</th>\n",
       "      <th>address</th>\n",
       "    </tr>\n",
       "  </thead>\n",
       "  <tbody>\n",
       "    <tr>\n",
       "      <th>0</th>\n",
       "      <td>[[$4,220+ 1 bd]]</td>\n",
       "      <td>[[Arrive Los Carneros II | 6720 Calle Koral, G...</td>\n",
       "    </tr>\n",
       "    <tr>\n",
       "      <th>1</th>\n",
       "      <td>[[$2,956/mo]]</td>\n",
       "      <td>[[Pacific Oaks, 7170 Davenport Rd #7260-105, G...</td>\n",
       "    </tr>\n",
       "    <tr>\n",
       "      <th>2</th>\n",
       "      <td>[[$2,224+ 1 bd]]</td>\n",
       "      <td>[[Hancock Terrace Apartments | 534 E Boone St,...</td>\n",
       "    </tr>\n",
       "    <tr>\n",
       "      <th>3</th>\n",
       "      <td>[[$2,837+ 2 bds]]</td>\n",
       "      <td>[[St Claire | 1735 Biscayne St, Santa Maria, CA]]</td>\n",
       "    </tr>\n",
       "    <tr>\n",
       "      <th>4</th>\n",
       "      <td>[[$3,575+ 1 bd]]</td>\n",
       "      <td>[[Cortona Point Apartments | 100 Cortona Dr, G...</td>\n",
       "    </tr>\n",
       "    <tr>\n",
       "      <th>5</th>\n",
       "      <td>[[$2,469+ 2 bds]]</td>\n",
       "      <td>[[Siena Apartments | 1245 W Sonya Ln, Santa Ma...</td>\n",
       "    </tr>\n",
       "    <tr>\n",
       "      <th>6</th>\n",
       "      <td>[[$3,675+/mo]]</td>\n",
       "      <td>[[The Tahitian Apartments, 6739 El Colegio Rd,...</td>\n",
       "    </tr>\n",
       "    <tr>\n",
       "      <th>7</th>\n",
       "      <td>[[$2,895+ 2 bds]]</td>\n",
       "      <td>[[Montiavo | 2460 Rubel Way, Santa Maria, CA]]</td>\n",
       "    </tr>\n",
       "    <tr>\n",
       "      <th>8</th>\n",
       "      <td>[[$3,275+ 3 bds]]</td>\n",
       "      <td>[[Montiavo | 2460 S Rubel Way, Santa Maria, CA]]</td>\n",
       "    </tr>\n",
       "  </tbody>\n",
       "</table>\n",
       "</div>"
      ],
      "text/plain": [
       "               price                                            address\n",
       "0   [[$4,220+ 1 bd]]  [[Arrive Los Carneros II | 6720 Calle Koral, G...\n",
       "1      [[$2,956/mo]]  [[Pacific Oaks, 7170 Davenport Rd #7260-105, G...\n",
       "2   [[$2,224+ 1 bd]]  [[Hancock Terrace Apartments | 534 E Boone St,...\n",
       "3  [[$2,837+ 2 bds]]  [[St Claire | 1735 Biscayne St, Santa Maria, CA]]\n",
       "4   [[$3,575+ 1 bd]]  [[Cortona Point Apartments | 100 Cortona Dr, G...\n",
       "5  [[$2,469+ 2 bds]]  [[Siena Apartments | 1245 W Sonya Ln, Santa Ma...\n",
       "6     [[$3,675+/mo]]  [[The Tahitian Apartments, 6739 El Colegio Rd,...\n",
       "7  [[$2,895+ 2 bds]]     [[Montiavo | 2460 Rubel Way, Santa Maria, CA]]\n",
       "8  [[$3,275+ 3 bds]]   [[Montiavo | 2460 S Rubel Way, Santa Maria, CA]]"
      ]
     },
     "execution_count": 8,
     "metadata": {},
     "output_type": "execute_result"
    }
   ],
   "source": [
    "df_list[0]\n",
    "\n"
   ]
  }
 ],
 "metadata": {
  "kernelspec": {
   "display_name": "Python 3",
   "language": "python",
   "name": "python3"
  },
  "language_info": {
   "codemirror_mode": {
    "name": "ipython",
    "version": 3
   },
   "file_extension": ".py",
   "mimetype": "text/x-python",
   "name": "python",
   "nbconvert_exporter": "python",
   "pygments_lexer": "ipython3",
   "version": "3.10.9"
  }
 },
 "nbformat": 4,
 "nbformat_minor": 5
}
